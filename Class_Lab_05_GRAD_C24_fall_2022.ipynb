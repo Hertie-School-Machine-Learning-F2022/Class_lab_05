{
  "nbformat": 4,
  "nbformat_minor": 0,
  "metadata": {
    "colab": {
      "provenance": [],
      "authorship_tag": "ABX9TyPdcJZLa1g4FgK5jfCjCqju",
      "include_colab_link": true
    },
    "kernelspec": {
      "name": "python3",
      "display_name": "Python 3"
    },
    "language_info": {
      "name": "python"
    }
  },
  "cells": [
    {
      "cell_type": "markdown",
      "metadata": {
        "id": "view-in-github",
        "colab_type": "text"
      },
      "source": [
        "<a href=\"https://colab.research.google.com/github/Hertie-School-Machine-Learning-F2022/Class_lab_05/blob/main/Class_Lab_05_GRAD_C24_fall_2022.ipynb\" target=\"_parent\"><img src=\"https://colab.research.google.com/assets/colab-badge.svg\" alt=\"Open In Colab\"/></a>"
      ]
    },
    {
      "cell_type": "markdown",
      "source": [
        "# Regression\n",
        "\n",
        "## Author: Paulina Garcia Corral\n",
        "\n",
        "Regression is a method of modelling a target value (y) based on independent values. In plain english, predicting the value of some variable y, based on the values of other variables we think influence it. Regression techniques differ on number of independent variables (linear regression, multilinear regression) and on the type of relationship between target and predictors (polynomials).\n",
        "\n",
        "## Simple linear regression\n",
        "\n",
        "The relationship between one independent variable (x) and one dependent variable (y). The modelling produces a straight line of best fit, which models the points using the linear equation (y = mx + b).\n",
        "\n",
        "In statistics, the linear equation is usually expressed as: \n",
        "\n",
        "## y' = β0 + β1*X1 + e\n",
        "\n",
        "With a bigger number of independent variables, or a model that has multiple _features_ (x1, x2, etc), each with a different weight (b_1, b_2, etc) the equation expands like this:\n",
        "\n",
        "## y' = β0 + β1*X1 + β2*X2 + β3*X3 + βi*Xi + 𝜀"
      ],
      "metadata": {
        "id": "wpSr0JxR-HL0"
      }
    },
    {
      "cell_type": "markdown",
      "source": [
        "Look at the example below: \n",
        "\n",
        "We have recorded the temperature in Celsius each day and the number of cricket chirps. \n",
        "\n",
        "We want to find out if the temperature influences the number of chirps. \n",
        "\n",
        "We set X as our independent variable (Temperature in ºC) \n",
        "\n",
        "and y as our dependent variable (Number of chirps)"
      ],
      "metadata": {
        "id": "r7cZgP-kCqF-"
      }
    },
    {
      "cell_type": "code",
      "execution_count": null,
      "metadata": {
        "colab": {
          "base_uri": "https://localhost:8080/",
          "height": 287
        },
        "id": "_k_luqNO-Ejx",
        "outputId": "8efe5518-71ea-4ee4-bb1f-0856cc64e056"
      },
      "outputs": [
        {
          "output_type": "stream",
          "name": "stdout",
          "text": [
            "Y' = -4.11 + 0.65 *X1\n"
          ]
        },
        {
          "output_type": "display_data",
          "data": {
            "text/plain": [
              "<Figure size 432x288 with 1 Axes>"
            ],
            "image/png": "[encoded data removed]"
          },
          "metadata": {
            "needs_background": "light"
          }
        }
      ],
      "source": [
        "import pandas as pd\n",
        "import numpy as np\n",
        "import matplotlib.pyplot as plt\n",
        "\n",
        "x = [10, 15, 20, 25, 30, 35, 40]\n",
        "y = [3, 5, 8, 13, 16, 18, 22]\n",
        "\n",
        "coef = np.polyfit(x,y,1)\n",
        "poly1d_fn = np.poly1d(coef) \n",
        "\n",
        "plt.plot(x,y, 'yo', x, poly1d_fn(x), '--k');\n",
        "\n",
        "plt.xlim(10, 40);\n",
        "plt.ylim(3, 25);\n",
        "\n",
        "print(\"Y' =\", \"%.2f\" % coef[1], '+', \"%.2f\" % coef[0], '*X1')"
      ]
    },
    {
      "cell_type": "markdown",
      "source": [
        "The purpose of linear regression in Machine Learning is to use the line of best fit, to estimate the values of unseen data samples.\n",
        "\n",
        "For example, using the estimator, when the temprature is equal to 23ºC (x = 23), we estimate to hear aprox 11 chirps (y' = 10.84)."
      ],
      "metadata": {
        "id": "iOZN2E3xB7Gf"
      }
    },
    {
      "cell_type": "code",
      "source": [
        "print('Equation')\n",
        "print(\"Y' =\", \"%.2f\" % coef[1], '+', \"%.2f\" % coef[0], '*X1')\n",
        "print(\"Y' =\", \"%.2f\" % coef[1], '+', \"%.2f\" % coef[0], '*Temp')\n",
        "print(\"\")\n",
        "print('Substitute')\n",
        "print(\"y' =\", \"%.2f\" % coef[1], '+', \"%.2f\" % coef[0], '*23ºC')\n",
        "print(\"y' =\", \"%.2f\" % (coef[1] + (coef[0]*23)))"
      ],
      "metadata": {
        "colab": {
          "base_uri": "https://localhost:8080/"
        },
        "id": "x519UiQzFNWE",
        "outputId": "df23b0e5-975a-4206-d0c4-e168ad3f4678"
      },
      "execution_count": null,
      "outputs": [
        {
          "output_type": "stream",
          "name": "stdout",
          "text": [
            "Equation\n",
            "Y' = -4.11 + 0.65 *X1\n",
            "Y' = -4.11 + 0.65 *Temp\n",
            "\n",
            "Substitute\n",
            "y' = -4.11 + 0.65 *23ºC\n",
            "y' = 10.84\n"
          ]
        }
      ]
    },
    {
      "cell_type": "markdown",
      "source": [
        "## Linear regression is a minimization problem\n",
        "\n",
        "The objetive is to minimize the error between the predicted value and the actual value.\n",
        "\n",
        "What do we mean by this? \n",
        "\n",
        "Let's look at our real data:\n",
        "\n",
        "x = [10, 15, 20, 25, 30, 35, 40]\n",
        "\n",
        "y = [3, 5, 8, 13, 16, 18, 22]\n",
        "\n",
        "\n",
        "Take the actual value of x = 15, we _know_ the real value of y =5 when x = 15. \n",
        "\n",
        "But using the equation above, we estimate that the value of y' = 5.64"
      ],
      "metadata": {
        "id": "gXSjY3SuGz-p"
      }
    },
    {
      "cell_type": "code",
      "source": [
        "print('Equation')\n",
        "print(\"y' =\", \"%.2f\" % coef[1], '+', \"%.2f\" % coef[0], '*x_1')\n",
        "print(\"\")\n",
        "print('Substitute')\n",
        "print(\"y' =\", \"%.2f\" % coef[1], '+', \"%.2f\" % coef[0], '*15')\n",
        "print(\"y' =\", \"%.2f\" % (coef[1] + (coef[0]*15)))"
      ],
      "metadata": {
        "colab": {
          "base_uri": "https://localhost:8080/"
        },
        "id": "ug5TlgmBHrKC",
        "outputId": "ae9de924-653c-41a7-889a-bfaa52ee6bd6"
      },
      "execution_count": null,
      "outputs": [
        {
          "output_type": "stream",
          "name": "stdout",
          "text": [
            "Equation\n",
            "y' = -4.11 + 0.65 *x_1\n",
            "\n",
            "Substitute\n",
            "y' = -4.11 + 0.65 *15\n",
            "y' = 5.64\n"
          ]
        }
      ]
    },
    {
      "cell_type": "markdown",
      "source": [
        "The objetive of linear regression is to minimize the difference between the real value and the predict value as much as we can, to generate better predictions. "
      ],
      "metadata": {
        "id": "tutf0w6yH1xz"
      }
    },
    {
      "cell_type": "markdown",
      "source": [
        "In a Linear Regression model, training or fitting a model simply means determining or finding good values for all the weights (the b's for each x) and the bias (B0 or coefficient) from labeled examples. In supervised learning, a machine learning algorithm builds a model by examining many examples and attempting to find a model that minimizes loss, or the difference between actual and predicted value (y - y').\n",
        "\n",
        "In linear regression models one loss function used to calculate the weights is called squared loss (also known as L2 loss). The squared loss for a single example is as follows: \n",
        "\n",
        "\n",
        " Mean Squared Error = (Σ(y - prediction(x))^2)/N"
      ],
      "metadata": {
        "id": "HvvYPWdUHHnz"
      }
    },
    {
      "cell_type": "code",
      "source": [
        "# This looks familiar, many results metrics take this form!\n",
        "\n",
        "from sklearn.metrics import mean_squared_error\n",
        "\n",
        "mse_results = mean_squared_error(y_test, y_pred) #y_test is the actual value of y that is saved in our test set\n",
        "                                                 #y_pred is the predicted value of y according to our model"
      ],
      "metadata": {
        "id": "LdDlZJWqGuqC"
      },
      "execution_count": null,
      "outputs": []
    },
    {
      "cell_type": "markdown",
      "source": [
        "Let's keep using the temprature and cricket chirping example to further demostrate. "
      ],
      "metadata": {
        "id": "CM4GnWQJK0j9"
      }
    },
    {
      "cell_type": "code",
      "source": [
        "# Imagine that we have a bigger dataset, and we have divided that set into testing\n",
        "# and training, like below. \n",
        "# (For sklearn, the dimensions of the arrey have to be in 2D, set as -1,1)\n",
        "\n",
        "X_train = np.reshape([10, 15, 20, 25, 30, 35, 40], (-1, 1))\n",
        "y_train = np.reshape([3, 5, 8, 13, 16, 18, 22], (-1, 1))\n",
        "\n",
        "X_test = np.reshape([13, 14, 15, 16], (-1,1))\n",
        "y_test = np.reshape([3, 5, 5, 7], (-1, 1))"
      ],
      "metadata": {
        "id": "8oN1FE2icZYq"
      },
      "execution_count": null,
      "outputs": []
    },
    {
      "cell_type": "code",
      "source": [
        "# Import Linear Regression from linear_model\n",
        "\n",
        "\n",
        "# Set Linear Regression as our model (lm)\n",
        "\n",
        "\n",
        "\n",
        "# Fit with the training set, which in this case means calculating the line of best fit\n",
        "# and obtaining the bias and weights (B0 and Bi or intercept and coefficients or alpha and beta i)\n",
        "\n",
        "\n",
        "\n",
        "print('bias or intercept',#)\n",
        "print('weight or coef', #)"
      ],
      "metadata": {
        "id": "sYPdLkg2cZ26"
      },
      "execution_count": null,
      "outputs": []
    },
    {
      "cell_type": "markdown",
      "source": [
        "## Recall our test data\n",
        "\n",
        "**x = 13, 14, 15, 16**\n",
        "\n",
        "**y = 3, 5, 5, 7**\n",
        "\n",
        "What happens now is that the model will take the X values, and predict y using the equation that was fitted above using the bias and the weight.\n",
        "\n",
        "_y' = -4.107 + 0.65*Temp_\n"
      ],
      "metadata": {
        "id": "9VDuYnIii9CV"
      }
    },
    {
      "cell_type": "code",
      "source": [
        "# Of course, that's when our sklearn functions come in\n",
        "# We can now predict on unseen data!\n",
        "\n",
        "y_pred = "
      ],
      "metadata": {
        "id": "kqQMIm34caVO"
      },
      "execution_count": null,
      "outputs": []
    },
    {
      "cell_type": "code",
      "source": [
        "# We can compare the real values of y (y_test) and the predicted values of y (y_pred)\n",
        "\n",
        "print('y_test:')\n",
        "print(y_test)\n",
        "print(\"\")\n",
        "print('y_pred:')\n",
        "print(y_pred)\n"
      ],
      "metadata": {
        "id": "NE87rFNEcarQ"
      },
      "execution_count": null,
      "outputs": []
    },
    {
      "cell_type": "code",
      "source": [
        "# Calculate the mean squared error \n",
        "\n"
      ],
      "metadata": {
        "id": "hpucsPo9eQ4P"
      },
      "execution_count": null,
      "outputs": []
    },
    {
      "cell_type": "code",
      "source": [
        "# and the R^2 as an additional metric \n",
        "\n",
        "from sklearn.metrics import r2_score\n",
        "\n"
      ],
      "metadata": {
        "id": "C3w703CseTsJ"
      },
      "execution_count": null,
      "outputs": []
    },
    {
      "cell_type": "markdown",
      "source": [
        "Both MSE and R2 quantify how well a regression model fits a dataset. The RMSE tells us how well a regression model can predict the value of the response variable in absolute terms while R2 tells us how well a model can predict the value of the response variable in percentage terms"
      ],
      "metadata": {
        "id": "A31bl62rezH2"
      }
    },
    {
      "cell_type": "markdown",
      "source": [
        "## How can we interpret the results? \n",
        "\n",
        "**bias and weights**\n",
        "\n",
        "**bias**: mean value of y' when X are equal to zero. In this case, when X = 0, we would hear -4.1 chirps. It makes no sense, so there is no interpretation, as it is impossible to hear negative chirps. However, we need this intercept for the model.\n",
        "\n",
        "**weights**: in average how much y increases by each unit increase of x. 0.65 extra chirps per ºC. \n",
        "\n",
        "MSE and R^2\n",
        "\n",
        "**MSE**: measures how close a regression line is to a set of data points\n",
        "\n",
        "**R^2**: tells us how much variance is explained by the model"
      ],
      "metadata": {
        "id": "mdRMMiIme3rj"
      }
    },
    {
      "cell_type": "markdown",
      "source": [
        "## Now let's apply a full pipeline!"
      ],
      "metadata": {
        "id": "x6ZpV5nYg2mh"
      }
    },
    {
      "cell_type": "markdown",
      "source": [
        "For this excercise I'm adapting Will Lowe's linear regression Percept 7 and 8 lab in R for Python."
      ],
      "metadata": {
        "id": "9DtLpgrVlp3c"
      }
    },
    {
      "cell_type": "markdown",
      "source": [
        "We will use The Electric Company on children's reading ability, an experiment by Cooney (1976). "
      ],
      "metadata": {
        "id": "XXnoGzFilzGn"
      }
    },
    {
      "cell_type": "code",
      "source": [
        "# Load the dataset called electric-company.csv\n",
        "\n",
        "from google.colab import files\n",
        "uploaded = files.upload()\n",
        "\n",
        "import io\n",
        "df = pd.read_csv(io.BytesIO(uploaded['electric-company.csv']))\n",
        "\n",
        "# Dataset is now stored in a Pandas Dataframe"
      ],
      "metadata": {
        "id": "eO9IKOSTfNl1"
      },
      "execution_count": null,
      "outputs": []
    },
    {
      "cell_type": "markdown",
      "source": [
        "This experiment tried to measure if watching an educational tv program helped students improve their reading. Every observation is a class of students, which was either treated, if the program was shown to them, or control if the program was not shown as part of their studies.\n",
        "\n",
        "The outcome of interest, our ‘dependent variable’, is the class’s average score on a reading test at the end of the year. We’ve called that post.score."
      ],
      "metadata": {
        "id": "gZG4an1nnHAW"
      }
    },
    {
      "cell_type": "code",
      "source": [
        "# What does the data look like \n",
        "\n",
        "df.head()\n",
        "\n",
        "# City: Fresno (F) or Youngstown (Y)\n",
        "# Grade: School grade 1-4\n",
        "# Supp: Wheter the program replaced (R) or supplemented (S) a reading activity\n",
        "# Treatment: T if the children recieved treatment or C otherwise\n",
        "# Pre.score: Reading score before treatment\n",
        "# Post.score: Reading score after treatment"
      ],
      "metadata": {
        "id": "Yrj4a20VmVBZ"
      },
      "execution_count": null,
      "outputs": []
    },
    {
      "cell_type": "code",
      "source": [
        "df.dtypes"
      ],
      "metadata": {
        "id": "VrhikeudnEGJ"
      },
      "execution_count": null,
      "outputs": []
    },
    {
      "cell_type": "markdown",
      "source": [
        "We will not focus on the experiment for now, and only look at the children's scores in total (both T and C)."
      ],
      "metadata": {
        "id": "OUUX-6k3L0AX"
      }
    },
    {
      "cell_type": "code",
      "source": [
        "# Let's do a simple linear regression.\n",
        "# We will attempt to predict readings score based on school grade\n",
        "\n",
        "# \n",
        "\n",
        "\n",
        "print(\"coef:\", #)\n",
        "print(\"intercept:\", #)\n",
        "print(\"R2:\", #)\n",
        "\n",
        "#"
      ],
      "metadata": {
        "id": "p85_FQfyq17m"
      },
      "execution_count": null,
      "outputs": []
    },
    {
      "cell_type": "markdown",
      "source": [
        "Above, we are only considering that given a child's school grade, we can predict it's learning score.\n",
        "\n",
        "We see that according to the model, every extra year of schooling, increases the score by 12.32 points."
      ],
      "metadata": {
        "id": "BWS7PmGCrUuK"
      }
    },
    {
      "cell_type": "code",
      "source": [
        "# Two variables to observe if this increases the variance explained\n",
        "\n",
        "x =  # Add the previous score\n",
        "y = df[['post.score']]\n",
        "\n",
        "y_pred = lm.fit(x,y).predict(x)\n",
        "\n",
        "print(\"coef:\", #)\n",
        "print(\"intercept:\", #)\n",
        "print(\"R2:\", #)"
      ],
      "metadata": {
        "id": "zmvlODGvNEtL"
      },
      "execution_count": null,
      "outputs": []
    },
    {
      "cell_type": "code",
      "source": [
        "# Plot\n"
      ],
      "metadata": {
        "id": "p85BMQ-532iN"
      },
      "execution_count": null,
      "outputs": []
    },
    {
      "cell_type": "code",
      "source": [
        "# There seems to be space for improvement if we add a StandardScaler \n",
        "\n",
        "from sklearn.preprocessing import StandardScaler\n",
        "\n",
        "stdsc = StandardScaler()\n",
        "lm = LinearRegression()\n",
        "\n",
        "# Create a pipeline\n",
        "\n",
        "\n",
        "print(\"coef:\", #)\n",
        "print(\"intercept:\", #)\n",
        "print(\"R2:\", #)"
      ],
      "metadata": {
        "id": "ZkrmF67F6i8h"
      },
      "execution_count": null,
      "outputs": []
    },
    {
      "cell_type": "markdown",
      "source": [
        "What if we add an interaction term? There are advantages to understanding the effects of variables that together have more predictive power."
      ],
      "metadata": {
        "id": "RI_7S_ym6tt1"
      }
    },
    {
      "cell_type": "code",
      "source": [
        "# We can add more variables to observe if this increases the variance explained\n",
        "xy = \n",
        "\n",
        "x = # Add the previous score\n",
        "y = df[['post.score']]\n",
        "\n",
        "# Plot\n"
      ],
      "metadata": {
        "id": "-dAzdOBn6881"
      },
      "execution_count": null,
      "outputs": []
    },
    {
      "cell_type": "code",
      "source": [
        "# Fit linear regression with 3 variables (previous two + interaction term)\n",
        "\n",
        "# pipe\n",
        "\n",
        "\n",
        "\n",
        "print(\"coef:\", #)\n",
        "print(\"intercept:\", #)\n",
        "print(\"R2:\", #)"
      ],
      "metadata": {
        "id": "yqua0hLc7hDe"
      },
      "execution_count": null,
      "outputs": []
    },
    {
      "cell_type": "markdown",
      "source": [
        "It is clear from the data that the classess are grouping together, and that they should probably be treated as categorical instead of numerical."
      ],
      "metadata": {
        "id": "6KLL3qUENu8R"
      }
    },
    {
      "cell_type": "code",
      "source": [
        "# We need to use one hot encoder\n",
        "\n",
        "from sklearn.compose import make_column_transformer\n",
        "from sklearn.preprocessing import OneHotEncoder\n",
        "\n",
        "# Instanciate ohe and drop first dummy to make it easier to interpret\n",
        "\n",
        "\n",
        "# Preprocess \n",
        "\n",
        "\n",
        "\n",
        "\n",
        "# Create a pipeline\n",
        "\n",
        "\n",
        "# Fit\n",
        "\n",
        "\n",
        "# Get the values  \n",
        "print('Feat:', #)\n",
        "print('Coef:', #)\n",
        "print('Inter:', #)\n",
        "print(\"R2:\", #)"
      ],
      "metadata": {
        "id": "71hhe6zsrveT"
      },
      "execution_count": null,
      "outputs": []
    }
  ]
}