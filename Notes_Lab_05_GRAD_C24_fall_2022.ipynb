{
  "nbformat": 4,
  "nbformat_minor": 0,
  "metadata": {
    "colab": {
      "provenance": [],
      "authorship_tag": "ABX9TyNtv26LDZYtao07U+cQh7U4",
      "include_colab_link": true
    },
    "kernelspec": {
      "name": "python3",
      "display_name": "Python 3"
    },
    "language_info": {
      "name": "python"
    }
  },
  "cells": [
    {
      "cell_type": "markdown",
      "metadata": {
        "id": "view-in-github",
        "colab_type": "text"
      },
      "source": [
        "<a href=\"https://colab.research.google.com/github/Hertie-School-Machine-Learning-F2022/Class_lab_05/blob/main/Notes_Lab_05_GRAD_C24_fall_2022.ipynb\" target=\"_parent\"><img src=\"https://colab.research.google.com/assets/colab-badge.svg\" alt=\"Open In Colab\"/></a>"
      ]
    },
    {
      "cell_type": "markdown",
      "source": [
        "# Regression\n",
        "\n",
        "## Author: Paulina Garcia Corral\n",
        "\n",
        "Regression is a method of modelling a target value (y) based on independent values. In plain english, predicting the value of some variable y, based on the values of other variables we think influence it. Regression techniques differ on number of independent variables (linear regression, multilinear regression) and on the type of relationship between target and predictors (polynomials).\n",
        "\n",
        "## Simple linear regression\n",
        "\n",
        "The relationship between one independent variable (x) and one dependent variable (y). The modelling produces a straight line of best fit, which models the points using the linear equation (y = mx + b).\n",
        "\n",
        "In statistics, the linear equation is usually expressed as: \n",
        "\n",
        "## y' = β0 + β1*X1 + e\n",
        "\n",
        "With a bigger number of independent variables, or a model that has multiple _features_ (x1, x2, etc), each with a different weight (b_1, b_2, etc) the equation expands like this:\n",
        "\n",
        "## y' = β0 + β1*X1 + β2*X2 + β3*X3 + βi*Xi + 𝜀"
      ],
      "metadata": {
        "id": "wpSr0JxR-HL0"
      }
    },
    {
      "cell_type": "markdown",
      "source": [
        "Look at the example below: \n",
        "\n",
        "We have recorded the temperature in Celsius each day and the number of cricket chirps. \n",
        "\n",
        "We want to find out if the temperature influences the number of chirps. \n",
        "\n",
        "We set X as our independent variable (Temperature in ºC) \n",
        "\n",
        "and y as our dependent variable (Number of chirps)"
      ],
      "metadata": {
        "id": "r7cZgP-kCqF-"
      }
    },
    {
      "cell_type": "code",
      "execution_count": null,
      "metadata": {
        "colab": {
          "base_uri": "https://localhost:8080/",
          "height": 287
        },
        "id": "_k_luqNO-Ejx",
        "outputId": "8efe5518-71ea-4ee4-bb1f-0856cc64e056"
      },
      "outputs": [
        {
          "output_type": "stream",
          "name": "stdout",
          "text": [
            "Y' = -4.11 + 0.65 *X1\n"
          ]
        },
        {
          "output_type": "display_data",
          "data": {
            "text/plain": [
              "<Figure size 432x288 with 1 Axes>"
            ],
            "image/png": "[encoded data removed]"
          },
          "metadata": {
            "needs_background": "light"
          }
        }
      ],
      "source": [
        "import pandas as pd\n",
        "import numpy as np\n",
        "import matplotlib.pyplot as plt\n",
        "\n",
        "x = [10, 15, 20, 25, 30, 35, 40]\n",
        "y = [3, 5, 8, 13, 16, 18, 22]\n",
        "\n",
        "coef = np.polyfit(x,y,1)\n",
        "poly1d_fn = np.poly1d(coef) \n",
        "\n",
        "plt.plot(x,y, 'yo', x, poly1d_fn(x), '--k');\n",
        "\n",
        "plt.xlim(10, 40);\n",
        "plt.ylim(3, 25);\n",
        "\n",
        "print(\"Y' =\", \"%.2f\" % coef[1], '+', \"%.2f\" % coef[0], '*X1')"
      ]
    },
    {
      "cell_type": "markdown",
      "source": [
        "The purpose of linear regression in Machine Learning is to use the line of best fit, to estimate the values of unseen data samples.\n",
        "\n",
        "For example, using the estimator, when the temprature is equal to 23ºC (x = 23), we estimate to hear aprox 11 chirps (y' = 10.84)."
      ],
      "metadata": {
        "id": "iOZN2E3xB7Gf"
      }
    },
    {
      "cell_type": "code",
      "source": [
        "print('Equation')\n",
        "print(\"Y' =\", \"%.2f\" % coef[1], '+', \"%.2f\" % coef[0], '*X1')\n",
        "print(\"Y' =\", \"%.2f\" % coef[1], '+', \"%.2f\" % coef[0], '*Temp')\n",
        "print(\"\")\n",
        "print('Substitute')\n",
        "print(\"y' =\", \"%.2f\" % coef[1], '+', \"%.2f\" % coef[0], '*23ºC')\n",
        "print(\"y' =\", \"%.2f\" % (coef[1] + (coef[0]*23)))"
      ],
      "metadata": {
        "colab": {
          "base_uri": "https://localhost:8080/"
        },
        "id": "x519UiQzFNWE",
        "outputId": "df23b0e5-975a-4206-d0c4-e168ad3f4678"
      },
      "execution_count": null,
      "outputs": [
        {
          "output_type": "stream",
          "name": "stdout",
          "text": [
            "Equation\n",
            "Y' = -4.11 + 0.65 *X1\n",
            "Y' = -4.11 + 0.65 *Temp\n",
            "\n",
            "Substitute\n",
            "y' = -4.11 + 0.65 *23ºC\n",
            "y' = 10.84\n"
          ]
        }
      ]
    },
    {
      "cell_type": "markdown",
      "source": [
        "## Linear regression is a minimization problem\n",
        "\n",
        "The objetive is to minimize the error between the predicted value and the actual value.\n",
        "\n",
        "What do we mean by this? \n",
        "\n",
        "Let's look at our real data:\n",
        "\n",
        "x = [10, 15, 20, 25, 30, 35, 40]\n",
        "\n",
        "y = [3, 5, 8, 13, 16, 18, 22]\n",
        "\n",
        "\n",
        "Take the actual value of x = 15, we _know_ the real value of y =5 when x = 15. \n",
        "\n",
        "But using the equation above, we estimate that the value of y' = 5.64"
      ],
      "metadata": {
        "id": "gXSjY3SuGz-p"
      }
    },
    {
      "cell_type": "code",
      "source": [
        "print('Equation')\n",
        "print(\"y' =\", \"%.2f\" % coef[1], '+', \"%.2f\" % coef[0], '*x_1')\n",
        "print(\"\")\n",
        "print('Substitute')\n",
        "print(\"y' =\", \"%.2f\" % coef[1], '+', \"%.2f\" % coef[0], '*15')\n",
        "print(\"y' =\", \"%.2f\" % (coef[1] + (coef[0]*15)))"
      ],
      "metadata": {
        "colab": {
          "base_uri": "https://localhost:8080/"
        },
        "id": "ug5TlgmBHrKC",
        "outputId": "ae9de924-653c-41a7-889a-bfaa52ee6bd6"
      },
      "execution_count": null,
      "outputs": [
        {
          "output_type": "stream",
          "name": "stdout",
          "text": [
            "Equation\n",
            "y' = -4.11 + 0.65 *x_1\n",
            "\n",
            "Substitute\n",
            "y' = -4.11 + 0.65 *15\n",
            "y' = 5.64\n"
          ]
        }
      ]
    },
    {
      "cell_type": "markdown",
      "source": [
        "The objetive of linear regression is to minimize the difference between the real value and the predict value as much as we can, to generate better predictions. "
      ],
      "metadata": {
        "id": "tutf0w6yH1xz"
      }
    },
    {
      "cell_type": "markdown",
      "source": [
        "In a Linear Regression model, training or fitting a model simply means determining or finding good values for all the weights (the b's for each x) and the bias (B0 or coefficient) from labeled examples. In supervised learning, a machine learning algorithm builds a model by examining many examples and attempting to find a model that minimizes loss, or the difference between actual and predicted value (y - y').\n",
        "\n",
        "In linear regression models one loss function used to calculate the weights is called squared loss (also known as L2 loss). The squared loss for a single example is as follows: \n",
        "\n",
        "\n",
        " Mean Squared Error = (Σ(y - prediction(x))^2)/N"
      ],
      "metadata": {
        "id": "HvvYPWdUHHnz"
      }
    },
    {
      "cell_type": "code",
      "source": [
        "# This looks familiar, many results metrics take this form!\n",
        "\n",
        "from sklearn.metrics import mean_squared_error\n",
        "\n",
        "mse_results = mean_squared_error(y_test, y_pred) #y_test is the actual value of y that is saved in our test set\n",
        "                                                 #y_pred is the predicted value of y according to our model"
      ],
      "metadata": {
        "id": "LdDlZJWqGuqC"
      },
      "execution_count": null,
      "outputs": []
    },
    {
      "cell_type": "markdown",
      "source": [
        "Let's keep using the temprature and cricket chirping example to further demostrate. "
      ],
      "metadata": {
        "id": "CM4GnWQJK0j9"
      }
    },
    {
      "cell_type": "code",
      "source": [
        "# Imagine that we have a bigger dataset, and we have divided that set into testing\n",
        "# and training, like below. \n",
        "# (For sklearn, the dimensions of the arrey have to be in 2D, set as -1,1)\n",
        "\n",
        "X_train = np.reshape([10, 15, 20, 25, 30, 35, 40], (-1, 1))\n",
        "y_train = np.reshape([3, 5, 8, 13, 16, 18, 22], (-1, 1))\n",
        "\n",
        "X_test = np.reshape([13, 14, 15, 16], (-1,1))\n",
        "y_test = np.reshape([3, 5, 5, 7], (-1, 1))"
      ],
      "metadata": {
        "id": "8oN1FE2icZYq"
      },
      "execution_count": null,
      "outputs": []
    },
    {
      "cell_type": "code",
      "source": [
        "# Import Linear Regression from linear_model\n",
        "from sklearn.linear_model import LinearRegression\n",
        "\n",
        "# Set Linear Regression as our model (lm)\n",
        "\n",
        "lm = LinearRegression()\n",
        "\n",
        "# Fit with the training set, which in this case means calculating the line of best fit\n",
        "# and obtaining the bias and weights (B0 and Bi or intercept and coefficients or alpha and beta i)\n",
        "\n",
        "lm_fit = lm.fit(X_train, y_train)\n",
        "\n",
        "print('bias or intercept', lm_fit.intercept_)\n",
        "print('weight or coef',lm_fit.coef_)"
      ],
      "metadata": {
        "colab": {
          "base_uri": "https://localhost:8080/"
        },
        "id": "sYPdLkg2cZ26",
        "outputId": "1fffd6f4-52cb-480e-9484-f5453be163aa"
      },
      "execution_count": null,
      "outputs": [
        {
          "output_type": "stream",
          "name": "stdout",
          "text": [
            "bias or intercept [-4.10714286]\n",
            "weight or coef [[0.65]]\n"
          ]
        }
      ]
    },
    {
      "cell_type": "markdown",
      "source": [
        "## Recall our test data\n",
        "\n",
        "**x = 13, 14, 15, 16**\n",
        "\n",
        "**y = 3, 5, 5, 7**\n",
        "\n",
        "What happens now is that the model will take the X values, and predict y using the equation that was fitted above using the bias and the weight.\n",
        "\n",
        "_y' = -4.107 + 0.65*Temp_\n"
      ],
      "metadata": {
        "id": "9VDuYnIii9CV"
      }
    },
    {
      "cell_type": "code",
      "source": [
        "# Of course, that's when our sklearn functions come in\n",
        "# We can now predict on unseen data!\n",
        "\n",
        "y_pred = lm_fit.predict(X_test)\n",
        "y_pred"
      ],
      "metadata": {
        "colab": {
          "base_uri": "https://localhost:8080/"
        },
        "id": "kqQMIm34caVO",
        "outputId": "18397b91-e7c6-4872-f90c-8541f7077dfd"
      },
      "execution_count": null,
      "outputs": [
        {
          "output_type": "execute_result",
          "data": {
            "text/plain": [
              "array([[4.34285714],\n",
              "       [4.99285714],\n",
              "       [5.64285714],\n",
              "       [6.29285714]])"
            ]
          },
          "metadata": {},
          "execution_count": 124
        }
      ]
    },
    {
      "cell_type": "code",
      "source": [
        "# We can compare the real values of y (y_test) and the predicted values of y (y_pred)\n",
        "\n",
        "print('y_test:')\n",
        "print(y_test)\n",
        "print(\"\")\n",
        "print('y_pred:')\n",
        "print(y_pred)\n"
      ],
      "metadata": {
        "colab": {
          "base_uri": "https://localhost:8080/"
        },
        "id": "NE87rFNEcarQ",
        "outputId": "34c97d32-6f93-43ae-d2ea-0056ddf2db9f"
      },
      "execution_count": null,
      "outputs": [
        {
          "output_type": "stream",
          "name": "stdout",
          "text": [
            "y_test:\n",
            "[[3]\n",
            " [5]\n",
            " [5]\n",
            " [7]]\n",
            "\n",
            "y_pred:\n",
            "[[4.34285714]\n",
            " [4.99285714]\n",
            " [5.64285714]\n",
            " [6.29285714]]\n"
          ]
        }
      ]
    },
    {
      "cell_type": "code",
      "source": [
        "# Calculate the mean squared error \n",
        "\n",
        "mean_squared_error(y_test, y_pred)"
      ],
      "metadata": {
        "colab": {
          "base_uri": "https://localhost:8080/"
        },
        "id": "hpucsPo9eQ4P",
        "outputId": "91bb57df-c2a7-4a15-a3ce-3a3cecb98d1c"
      },
      "execution_count": null,
      "outputs": [
        {
          "output_type": "execute_result",
          "data": {
            "text/plain": [
              "0.6791581632653041"
            ]
          },
          "metadata": {},
          "execution_count": 107
        }
      ]
    },
    {
      "cell_type": "code",
      "source": [
        "# and the R^2 as an additional metric \n",
        "\n",
        "from sklearn.metrics import r2_score\n",
        "\n",
        "r2_score(y_test, y_pred)"
      ],
      "metadata": {
        "colab": {
          "base_uri": "https://localhost:8080/"
        },
        "id": "C3w703CseTsJ",
        "outputId": "2b358645-8321-4ffa-ba86-c2f02e510c2e"
      },
      "execution_count": null,
      "outputs": [
        {
          "output_type": "execute_result",
          "data": {
            "text/plain": [
              "0.660420918367348"
            ]
          },
          "metadata": {},
          "execution_count": 110
        }
      ]
    },
    {
      "cell_type": "markdown",
      "source": [
        "Both MSE and R2 quantify how well a regression model fits a dataset. The RMSE tells us how well a regression model can predict the value of the response variable in absolute terms while R2 tells us how well a model can predict the value of the response variable in percentage terms"
      ],
      "metadata": {
        "id": "A31bl62rezH2"
      }
    },
    {
      "cell_type": "markdown",
      "source": [
        "## How can we interpret the results? \n",
        "\n",
        "**bias and weights**\n",
        "\n",
        "**bias**: mean value of y' when X are equal to zero. In this case, when X = 0, we would hear -4.1 chirps. It makes no sense, so there is no interpretation, as it is impossible to hear negative chirps. However, we need this intercept for the model.\n",
        "\n",
        "**weights**: in average how much y increases by each unit increase of x. 0.65 extra chirps per ºC. \n",
        "\n",
        "MSE and R^2\n",
        "\n",
        "**MSE**: measures how close a regression line is to a set of data points\n",
        "\n",
        "**R^2**: tells us how much variance is explained by the model"
      ],
      "metadata": {
        "id": "mdRMMiIme3rj"
      }
    },
    {
      "cell_type": "markdown",
      "source": [
        "## Now let's apply a full pipeline!"
      ],
      "metadata": {
        "id": "x6ZpV5nYg2mh"
      }
    },
    {
      "cell_type": "markdown",
      "source": [
        "For this excercise I'm adapting Will Lowe's linear regression Percept 7 and 8 lab in R for Python."
      ],
      "metadata": {
        "id": "9DtLpgrVlp3c"
      }
    },
    {
      "cell_type": "markdown",
      "source": [
        "We will use The Electric Company on children's reading ability, an experiment by Cooney (1976). "
      ],
      "metadata": {
        "id": "XXnoGzFilzGn"
      }
    },
    {
      "cell_type": "code",
      "source": [
        "# Load the dataset called electric-company.csv\n",
        "\n",
        "from google.colab import files\n",
        "uploaded = files.upload()\n",
        "\n",
        "import io\n",
        "df = pd.read_csv(io.BytesIO(uploaded['electric-company.csv']))\n",
        "# Dataset is now stored in a Pandas Dataframe"
      ],
      "metadata": {
        "colab": {
          "base_uri": "https://localhost:8080/",
          "height": 74
        },
        "id": "eO9IKOSTfNl1",
        "outputId": "61786801-fbf8-4cf6-e8a4-4a4754efefb8"
      },
      "execution_count": null,
      "outputs": [
        {
          "output_type": "display_data",
          "data": {
            "text/plain": [
              "<IPython.core.display.HTML object>"
            ],
            "text/html": [
              "\n",
              "     <input type=\"file\" id=\"files-93249ee7-7453-49af-aa34-6f63c7f5e7e9\" name=\"files[]\" multiple disabled\n",
              "        style=\"border:none\" />\n",
              "     <output id=\"result-93249ee7-7453-49af-aa34-6f63c7f5e7e9\">\n",
              "      Upload widget is only available when the cell has been executed in the\n",
              "      current browser session. Please rerun this cell to enable.\n",
              "      </output>\n",
              "      <script>// Copyright 2017 Google LLC\n",
              "//\n",
              "// Licensed under the Apache License, Version 2.0 (the \"License\");\n",
              "// you may not use this file except in compliance with the License.\n",
              "// You may obtain a copy of the License at\n",
              "//\n",
              "//      http://www.apache.org/licenses/LICENSE-2.0\n",
              "//\n",
              "// Unless required by applicable law or agreed to in writing, software\n",
              "// distributed under the License is distributed on an \"AS IS\" BASIS,\n",
              "// WITHOUT WARRANTIES OR CONDITIONS OF ANY KIND, either express or implied.\n",
              "// See the License for the specific language governing permissions and\n",
              "// limitations under the License.\n",
              "\n",
              "/**\n",
              " * @fileoverview Helpers for google.colab Python module.\n",
              " */\n",
              "(function(scope) {\n",
              "function span(text, styleAttributes = {}) {\n",
              "  const element = document.createElement('span');\n",
              "  element.textContent = text;\n",
              "  for (const key of Object.keys(styleAttributes)) {\n",
              "    element.style[key] = styleAttributes[key];\n",
              "  }\n",
              "  return element;\n",
              "}\n",
              "\n",
              "// Max number of bytes which will be uploaded at a time.\n",
              "const MAX_PAYLOAD_SIZE = 100 * 1024;\n",
              "\n",
              "function _uploadFiles(inputId, outputId) {\n",
              "  const steps = uploadFilesStep(inputId, outputId);\n",
              "  const outputElement = document.getElementById(outputId);\n",
              "  // Cache steps on the outputElement to make it available for the next call\n",
              "  // to uploadFilesContinue from Python.\n",
              "  outputElement.steps = steps;\n",
              "\n",
              "  return _uploadFilesContinue(outputId);\n",
              "}\n",
              "\n",
              "// This is roughly an async generator (not supported in the browser yet),\n",
              "// where there are multiple asynchronous steps and the Python side is going\n",
              "// to poll for completion of each step.\n",
              "// This uses a Promise to block the python side on completion of each step,\n",
              "// then passes the result of the previous step as the input to the next step.\n",
              "function _uploadFilesContinue(outputId) {\n",
              "  const outputElement = document.getElementById(outputId);\n",
              "  const steps = outputElement.steps;\n",
              "\n",
              "  const next = steps.next(outputElement.lastPromiseValue);\n",
              "  return Promise.resolve(next.value.promise).then((value) => {\n",
              "    // Cache the last promise value to make it available to the next\n",
              "    // step of the generator.\n",
              "    outputElement.lastPromiseValue = value;\n",
              "    return next.value.response;\n",
              "  });\n",
              "}\n",
              "\n",
              "/**\n",
              " * Generator function which is called between each async step of the upload\n",
              " * process.\n",
              " * @param {string} inputId Element ID of the input file picker element.\n",
              " * @param {string} outputId Element ID of the output display.\n",
              " * @return {!Iterable<!Object>} Iterable of next steps.\n",
              " */\n",
              "function* uploadFilesStep(inputId, outputId) {\n",
              "  const inputElement = document.getElementById(inputId);\n",
              "  inputElement.disabled = false;\n",
              "\n",
              "  const outputElement = document.getElementById(outputId);\n",
              "  outputElement.innerHTML = '';\n",
              "\n",
              "  const pickedPromise = new Promise((resolve) => {\n",
              "    inputElement.addEventListener('change', (e) => {\n",
              "      resolve(e.target.files);\n",
              "    });\n",
              "  });\n",
              "\n",
              "  const cancel = document.createElement('button');\n",
              "  inputElement.parentElement.appendChild(cancel);\n",
              "  cancel.textContent = 'Cancel upload';\n",
              "  const cancelPromise = new Promise((resolve) => {\n",
              "    cancel.onclick = () => {\n",
              "      resolve(null);\n",
              "    };\n",
              "  });\n",
              "\n",
              "  // Wait for the user to pick the files.\n",
              "  const files = yield {\n",
              "    promise: Promise.race([pickedPromise, cancelPromise]),\n",
              "    response: {\n",
              "      action: 'starting',\n",
              "    }\n",
              "  };\n",
              "\n",
              "  cancel.remove();\n",
              "\n",
              "  // Disable the input element since further picks are not allowed.\n",
              "  inputElement.disabled = true;\n",
              "\n",
              "  if (!files) {\n",
              "    return {\n",
              "      response: {\n",
              "        action: 'complete',\n",
              "      }\n",
              "    };\n",
              "  }\n",
              "\n",
              "  for (const file of files) {\n",
              "    const li = document.createElement('li');\n",
              "    li.append(span(file.name, {fontWeight: 'bold'}));\n",
              "    li.append(span(\n",
              "        `(${file.type || 'n/a'}) - ${file.size} bytes, ` +\n",
              "        `last modified: ${\n",
              "            file.lastModifiedDate ? file.lastModifiedDate.toLocaleDateString() :\n",
              "                                    'n/a'} - `));\n",
              "    const percent = span('0% done');\n",
              "    li.appendChild(percent);\n",
              "\n",
              "    outputElement.appendChild(li);\n",
              "\n",
              "    const fileDataPromise = new Promise((resolve) => {\n",
              "      const reader = new FileReader();\n",
              "      reader.onload = (e) => {\n",
              "        resolve(e.target.result);\n",
              "      };\n",
              "      reader.readAsArrayBuffer(file);\n",
              "    });\n",
              "    // Wait for the data to be ready.\n",
              "    let fileData = yield {\n",
              "      promise: fileDataPromise,\n",
              "      response: {\n",
              "        action: 'continue',\n",
              "      }\n",
              "    };\n",
              "\n",
              "    // Use a chunked sending to avoid message size limits. See b/62115660.\n",
              "    let position = 0;\n",
              "    do {\n",
              "      const length = Math.min(fileData.byteLength - position, MAX_PAYLOAD_SIZE);\n",
              "      const chunk = new Uint8Array(fileData, position, length);\n",
              "      position += length;\n",
              "\n",
              "      const base64 = btoa(String.fromCharCode.apply(null, chunk));\n",
              "      yield {\n",
              "        response: {\n",
              "          action: 'append',\n",
              "          file: file.name,\n",
              "          data: base64,\n",
              "        },\n",
              "      };\n",
              "\n",
              "      let percentDone = fileData.byteLength === 0 ?\n",
              "          100 :\n",
              "          Math.round((position / fileData.byteLength) * 100);\n",
              "      percent.textContent = `${percentDone}% done`;\n",
              "\n",
              "    } while (position < fileData.byteLength);\n",
              "  }\n",
              "\n",
              "  // All done.\n",
              "  yield {\n",
              "    response: {\n",
              "      action: 'complete',\n",
              "    }\n",
              "  };\n",
              "}\n",
              "\n",
              "scope.google = scope.google || {};\n",
              "scope.google.colab = scope.google.colab || {};\n",
              "scope.google.colab._files = {\n",
              "  _uploadFiles,\n",
              "  _uploadFilesContinue,\n",
              "};\n",
              "})(self);\n",
              "</script> "
            ]
          },
          "metadata": {}
        },
        {
          "output_type": "stream",
          "name": "stdout",
          "text": [
            "Saving electric-company.csv to electric-company (1).csv\n"
          ]
        }
      ]
    },
    {
      "cell_type": "markdown",
      "source": [
        "This experiment tried to measure if watching an educational tv program helped students improve their reading. Every observation is a class of students, which was either treated, if the program was shown to them, or control if the program was not shown as part of their studies.\n",
        "\n",
        "The outcome of interest, our ‘dependent variable’, is the class’s average score on a reading test at the end of the year. We’ve called that post.score."
      ],
      "metadata": {
        "id": "gZG4an1nnHAW"
      }
    },
    {
      "cell_type": "code",
      "source": [
        "# What does the data look like \n",
        "\n",
        "df.head()\n",
        "\n",
        "# City: Fresno (F) or Youngstown (Y)\n",
        "# Grade: School grade 1-4\n",
        "# Supp: Wheter the program replaced (R) or supplemented (S) a reading activity\n",
        "# Treatment: T if the children recieved treatment or C otherwise\n",
        "# Pre.score: Reading score before treatment\n",
        "# Post.score: Reading score after treatment"
      ],
      "metadata": {
        "colab": {
          "base_uri": "https://localhost:8080/",
          "height": 206
        },
        "id": "Yrj4a20VmVBZ",
        "outputId": "97450d3d-6eae-42a6-ac47-b141c5ef2b1b"
      },
      "execution_count": null,
      "outputs": [
        {
          "output_type": "execute_result",
          "data": {
            "text/plain": [
              "   pair city  grade supp treatment  pre.score  post.score\n",
              "0     1    F      1    S         T       13.8        48.9\n",
              "1     2    F      1    R         T       16.5        70.5\n",
              "2     3    F      1    S         T       18.5        89.7\n",
              "3     4    F      1    R         T        8.8        44.2\n",
              "4     5    F      1    S         T       15.3        77.5"
            ],
            "text/html": [
              "\n",
              "  <div id=\"df-bc2f4ef3-1037-45a5-8fb7-0e974b6eeea6\">\n",
              "    <div class=\"colab-df-container\">\n",
              "      <div>\n",
              "<style scoped>\n",
              "    .dataframe tbody tr th:only-of-type {\n",
              "        vertical-align: middle;\n",
              "    }\n",
              "\n",
              "    .dataframe tbody tr th {\n",
              "        vertical-align: top;\n",
              "    }\n",
              "\n",
              "    .dataframe thead th {\n",
              "        text-align: right;\n",
              "    }\n",
              "</style>\n",
              "<table border=\"1\" class=\"dataframe\">\n",
              "  <thead>\n",
              "    <tr style=\"text-align: right;\">\n",
              "      <th></th>\n",
              "      <th>pair</th>\n",
              "      <th>city</th>\n",
              "      <th>grade</th>\n",
              "      <th>supp</th>\n",
              "      <th>treatment</th>\n",
              "      <th>pre.score</th>\n",
              "      <th>post.score</th>\n",
              "    </tr>\n",
              "  </thead>\n",
              "  <tbody>\n",
              "    <tr>\n",
              "      <th>0</th>\n",
              "      <td>1</td>\n",
              "      <td>F</td>\n",
              "      <td>1</td>\n",
              "      <td>S</td>\n",
              "      <td>T</td>\n",
              "      <td>13.8</td>\n",
              "      <td>48.9</td>\n",
              "    </tr>\n",
              "    <tr>\n",
              "      <th>1</th>\n",
              "      <td>2</td>\n",
              "      <td>F</td>\n",
              "      <td>1</td>\n",
              "      <td>R</td>\n",
              "      <td>T</td>\n",
              "      <td>16.5</td>\n",
              "      <td>70.5</td>\n",
              "    </tr>\n",
              "    <tr>\n",
              "      <th>2</th>\n",
              "      <td>3</td>\n",
              "      <td>F</td>\n",
              "      <td>1</td>\n",
              "      <td>S</td>\n",
              "      <td>T</td>\n",
              "      <td>18.5</td>\n",
              "      <td>89.7</td>\n",
              "    </tr>\n",
              "    <tr>\n",
              "      <th>3</th>\n",
              "      <td>4</td>\n",
              "      <td>F</td>\n",
              "      <td>1</td>\n",
              "      <td>R</td>\n",
              "      <td>T</td>\n",
              "      <td>8.8</td>\n",
              "      <td>44.2</td>\n",
              "    </tr>\n",
              "    <tr>\n",
              "      <th>4</th>\n",
              "      <td>5</td>\n",
              "      <td>F</td>\n",
              "      <td>1</td>\n",
              "      <td>S</td>\n",
              "      <td>T</td>\n",
              "      <td>15.3</td>\n",
              "      <td>77.5</td>\n",
              "    </tr>\n",
              "  </tbody>\n",
              "</table>\n",
              "</div>\n",
              "      <button class=\"colab-df-convert\" onclick=\"convertToInteractive('df-bc2f4ef3-1037-45a5-8fb7-0e974b6eeea6')\"\n",
              "              title=\"Convert this dataframe to an interactive table.\"\n",
              "              style=\"display:none;\">\n",
              "        \n",
              "  <svg xmlns=\"http://www.w3.org/2000/svg\" height=\"24px\"viewBox=\"0 0 24 24\"\n",
              "       width=\"24px\">\n",
              "    <path d=\"M0 0h24v24H0V0z\" fill=\"none\"/>\n",
              "    <path d=\"M18.56 5.44l.94 2.06.94-2.06 2.06-.94-2.06-.94-.94-2.06-.94 2.06-2.06.94zm-11 1L8.5 8.5l.94-2.06 2.06-.94-2.06-.94L8.5 2.5l-.94 2.06-2.06.94zm10 10l.94 2.06.94-2.06 2.06-.94-2.06-.94-.94-2.06-.94 2.06-2.06.94z\"/><path d=\"M17.41 7.96l-1.37-1.37c-.4-.4-.92-.59-1.43-.59-.52 0-1.04.2-1.43.59L10.3 9.45l-7.72 7.72c-.78.78-.78 2.05 0 2.83L4 21.41c.39.39.9.59 1.41.59.51 0 1.02-.2 1.41-.59l7.78-7.78 2.81-2.81c.8-.78.8-2.07 0-2.86zM5.41 20L4 18.59l7.72-7.72 1.47 1.35L5.41 20z\"/>\n",
              "  </svg>\n",
              "      </button>\n",
              "      \n",
              "  <style>\n",
              "    .colab-df-container {\n",
              "      display:flex;\n",
              "      flex-wrap:wrap;\n",
              "      gap: 12px;\n",
              "    }\n",
              "\n",
              "    .colab-df-convert {\n",
              "      background-color: #E8F0FE;\n",
              "      border: none;\n",
              "      border-radius: 50%;\n",
              "      cursor: pointer;\n",
              "      display: none;\n",
              "      fill: #1967D2;\n",
              "      height: 32px;\n",
              "      padding: 0 0 0 0;\n",
              "      width: 32px;\n",
              "    }\n",
              "\n",
              "    .colab-df-convert:hover {\n",
              "      background-color: #E2EBFA;\n",
              "      box-shadow: 0px 1px 2px rgba(60, 64, 67, 0.3), 0px 1px 3px 1px rgba(60, 64, 67, 0.15);\n",
              "      fill: #174EA6;\n",
              "    }\n",
              "\n",
              "    [theme=dark] .colab-df-convert {\n",
              "      background-color: #3B4455;\n",
              "      fill: #D2E3FC;\n",
              "    }\n",
              "\n",
              "    [theme=dark] .colab-df-convert:hover {\n",
              "      background-color: #434B5C;\n",
              "      box-shadow: 0px 1px 3px 1px rgba(0, 0, 0, 0.15);\n",
              "      filter: drop-shadow(0px 1px 2px rgba(0, 0, 0, 0.3));\n",
              "      fill: #FFFFFF;\n",
              "    }\n",
              "  </style>\n",
              "\n",
              "      <script>\n",
              "        const buttonEl =\n",
              "          document.querySelector('#df-bc2f4ef3-1037-45a5-8fb7-0e974b6eeea6 button.colab-df-convert');\n",
              "        buttonEl.style.display =\n",
              "          google.colab.kernel.accessAllowed ? 'block' : 'none';\n",
              "\n",
              "        async function convertToInteractive(key) {\n",
              "          const element = document.querySelector('#df-bc2f4ef3-1037-45a5-8fb7-0e974b6eeea6');\n",
              "          const dataTable =\n",
              "            await google.colab.kernel.invokeFunction('convertToInteractive',\n",
              "                                                     [key], {});\n",
              "          if (!dataTable) return;\n",
              "\n",
              "          const docLinkHtml = 'Like what you see? Visit the ' +\n",
              "            '<a target=\"_blank\" href=https://colab.research.google.com/notebooks/data_table.ipynb>data table notebook</a>'\n",
              "            + ' to learn more about interactive tables.';\n",
              "          element.innerHTML = '';\n",
              "          dataTable['output_type'] = 'display_data';\n",
              "          await google.colab.output.renderOutput(dataTable, element);\n",
              "          const docLink = document.createElement('div');\n",
              "          docLink.innerHTML = docLinkHtml;\n",
              "          element.appendChild(docLink);\n",
              "        }\n",
              "      </script>\n",
              "    </div>\n",
              "  </div>\n",
              "  "
            ]
          },
          "metadata": {},
          "execution_count": 136
        }
      ]
    },
    {
      "cell_type": "code",
      "source": [
        "df.dtypes"
      ],
      "metadata": {
        "colab": {
          "base_uri": "https://localhost:8080/"
        },
        "id": "VrhikeudnEGJ",
        "outputId": "85e3f5c2-aba8-4827-db07-c0fbd79863bf"
      },
      "execution_count": null,
      "outputs": [
        {
          "output_type": "execute_result",
          "data": {
            "text/plain": [
              "pair            int64\n",
              "city           object\n",
              "grade           int64\n",
              "supp           object\n",
              "treatment      object\n",
              "pre.score     float64\n",
              "post.score    float64\n",
              "dtype: object"
            ]
          },
          "metadata": {},
          "execution_count": 138
        }
      ]
    },
    {
      "cell_type": "markdown",
      "source": [
        "We will not focus on the experiment for now, and only look at the children's scores in total (both T and C)."
      ],
      "metadata": {
        "id": "OUUX-6k3L0AX"
      }
    },
    {
      "cell_type": "code",
      "source": [
        "# Let's do a simple linear regression.\n",
        "# We will attempt to predict readings score based on school grade\n",
        "\n",
        "x = df[['grade']]\n",
        "y = df[['post.score']]\n",
        "\n",
        "lm = LinearRegression()\n",
        "y_pred = lm.fit(x,y).predict(x)\n",
        "\n",
        "print(\"coef:\", lm.coef_)\n",
        "print(\"intercept:\", lm.intercept_)\n",
        "print(\"R2:\", r2_score(y, y_pred))\n",
        "\n",
        "plt.scatter(x, y) \n",
        "plt.plot(x, y_pred, color='k');"
      ],
      "metadata": {
        "colab": {
          "base_uri": "https://localhost:8080/",
          "height": 318
        },
        "id": "p85_FQfyq17m",
        "outputId": "890cdbba-e2ef-4a35-c450-b7e6b7c29182"
      },
      "execution_count": null,
      "outputs": [
        {
          "output_type": "stream",
          "name": "stdout",
          "text": [
            "coef: [[12.32557903]]\n",
            "intercept: [67.23427173]\n",
            "R2: 0.5421947957690019\n"
          ]
        },
        {
          "output_type": "display_data",
          "data": {
            "text/plain": [
              "<Figure size 432x288 with 1 Axes>"
            ],
            "image/png": "[encoded data removed]"
          },
          "metadata": {
            "needs_background": "light"
          }
        }
      ]
    },
    {
      "cell_type": "markdown",
      "source": [
        "Above, we are only considering that given a child's school grade, we can predict it's learning score.\n",
        "\n",
        "We see that according to the model, every extra year of schooling, increases the score by 12.32 points."
      ],
      "metadata": {
        "id": "BWS7PmGCrUuK"
      }
    },
    {
      "cell_type": "code",
      "source": [
        "# Two variables to observe if this increases the variance explained\n",
        "\n",
        "x = df[['grade', 'pre.score']] # Add the previous score\n",
        "y = df[['post.score']]\n",
        "\n",
        "y_pred = lm.fit(x,y).predict(x)\n",
        "\n",
        "print(\"coef:\", lm.coef_)\n",
        "print(\"intercept:\", lm.intercept_)\n",
        "print(\"R2:\", r2_score(y, y_pred))"
      ],
      "metadata": {
        "colab": {
          "base_uri": "https://localhost:8080/"
        },
        "id": "zmvlODGvNEtL",
        "outputId": "10a43841-de03-4901-b4c2-8323f6facdc6"
      },
      "execution_count": null,
      "outputs": [
        {
          "output_type": "stream",
          "name": "stdout",
          "text": [
            "coef: [[-3.60451442  0.56196953]]\n",
            "intercept: [65.30997947]\n",
            "R2: 0.7895755360654055\n"
          ]
        }
      ]
    },
    {
      "cell_type": "code",
      "source": [
        "# Plot\n",
        "plt.scatter(df[\"grade\"], y)\n",
        "plt.scatter(df[\"pre.score\"], y)\n",
        "plt.show()"
      ],
      "metadata": {
        "colab": {
          "base_uri": "https://localhost:8080/",
          "height": 265
        },
        "id": "p85BMQ-532iN",
        "outputId": "f623b9c4-5d07-4d74-b246-a4cbc6f20300"
      },
      "execution_count": null,
      "outputs": [
        {
          "output_type": "display_data",
          "data": {
            "text/plain": [
              "<Figure size 432x288 with 1 Axes>"
            ],
            "image/png": "[encoded data removed]"
          },
          "metadata": {
            "needs_background": "light"
          }
        }
      ]
    },
    {
      "cell_type": "code",
      "source": [
        "# Fit lm\n",
        "\n",
        "from sklearn.preprocessing import StandardScaler\n",
        "\n",
        "stdsc = StandardScaler()\n",
        "lm = LinearRegression()\n",
        "\n",
        "pipe = Pipeline([\n",
        "    ('preproc', stdsc),\n",
        "    ('model', lm)\n",
        "    ])\n",
        "\n",
        "y_pred = pipe.fit(x,y).predict(x)\n",
        "\n",
        "print(\"coef:\", pipe['model'].coef_)\n",
        "print(\"intercept:\", pipe['model'].intercept_)\n",
        "print(\"R2:\", r2_score(y, y_pred))"
      ],
      "metadata": {
        "colab": {
          "base_uri": "https://localhost:8080/"
        },
        "id": "ZkrmF67F6i8h",
        "outputId": "5da5fd4b-c93f-45ed-8a6c-f77893ade7a4"
      },
      "execution_count": null,
      "outputs": [
        {
          "output_type": "stream",
          "name": "stdout",
          "text": [
            "coef: [[-3.81411989 19.01972909]]\n",
            "intercept: [97.14947917]\n",
            "R2: 0.7895755360654055\n"
          ]
        }
      ]
    },
    {
      "cell_type": "markdown",
      "source": [
        "What if we add an interaction term? There are advantages to understanding the effects of variables that together have more predictive power."
      ],
      "metadata": {
        "id": "RI_7S_ym6tt1"
      }
    },
    {
      "cell_type": "code",
      "source": [
        "# We can add more variables to observe if this increases the variance explained\n",
        "xy = df['grade'] * df['pre.score']\n",
        "df['grade*pre'] = xy\n",
        "\n",
        "x = df[['grade', 'pre.score', 'grade*pre']] # Add the previous score\n",
        "y = df[['post.score']]\n",
        "\n",
        "# Plot\n",
        "\n",
        "plt.scatter(df[\"grade\"], y)\n",
        "plt.scatter(df[\"pre.score\"], y)\n",
        "plt.scatter((df['grade*pre']), y)\n",
        "plt.show()"
      ],
      "metadata": {
        "colab": {
          "base_uri": "https://localhost:8080/",
          "height": 265
        },
        "id": "-dAzdOBn6881",
        "outputId": "fd6aa7a7-5ce8-4c27-f923-d84b33abc48b"
      },
      "execution_count": null,
      "outputs": [
        {
          "output_type": "display_data",
          "data": {
            "text/plain": [
              "<Figure size 432x288 with 1 Axes>"
            ],
            "image/png": "[encoded data removed]"
          },
          "metadata": {
            "needs_background": "light"
          }
        }
      ]
    },
    {
      "cell_type": "code",
      "source": [
        "# Fit linear regression with 3 variables \n",
        "pipe = Pipeline([\n",
        "    ('preproc', stdsc),\n",
        "    ('model', lm)\n",
        "    ])\n",
        "\n",
        "y_pred = pipe.fit(x,y).predict(x)\n",
        "\n",
        "print(\"coef:\", pipe['model'].coef_)\n",
        "print(\"intercept:\", pipe['model'].intercept_)\n",
        "print(\"R2:\", r2_score(y, y_pred))"
      ],
      "metadata": {
        "colab": {
          "base_uri": "https://localhost:8080/"
        },
        "id": "yqua0hLc7hDe",
        "outputId": "eac173bc-020a-47e7-9987-a5296cbb7d7b"
      },
      "execution_count": null,
      "outputs": [
        {
          "output_type": "stream",
          "name": "stdout",
          "text": [
            "coef: [[-16.65000206  15.91330947  15.8351307 ]]\n",
            "intercept: [97.14947917]\n",
            "R2: 0.8076317778862447\n"
          ]
        }
      ]
    },
    {
      "cell_type": "markdown",
      "source": [
        "It is clear from the data that the classess are grouping together, and that they should probably be treated as categorical instead of numerical."
      ],
      "metadata": {
        "id": "6KLL3qUENu8R"
      }
    },
    {
      "cell_type": "code",
      "source": [
        "## Change grade to be categorical?\n",
        "\n",
        "x = df[['grade', 'pre.score', 'grade*pre']] # Add the previous score\n",
        "y = df[['post.score']]\n",
        "\n",
        "# We need to use one hot encoder\n",
        "\n",
        "from sklearn.preprocessing import OneHotEncoder, StandardScaler\n",
        "from sklearn.pipeline import Pipeline\n",
        "from sklearn.compose import make_column_transformer\n",
        "\n",
        "# We drop our first dummy to make it easier to interpret\n",
        "ohe = OneHotEncoder(drop = 'first')\n",
        "\n",
        "# Preprocess \n",
        "\n",
        "col_t = make_column_transformer(\n",
        "    (ohe, ['grade']),\n",
        "    remainder = StandardScaler())\n",
        "\n",
        "\n",
        "# Create a pipeline\n",
        "\n",
        "pipe = Pipeline([\n",
        "    ('preproc', col_t),\n",
        "    ('model', lm)\n",
        "    ])\n",
        "\n",
        "# Fit\n",
        "y_pred = pipe.fit(x,y).predict(x)\n",
        "\n",
        "# Get the values  \n",
        "print('Feat:', col_t.get_feature_names_out())\n",
        "print('Coef:', pipe['model'].coef_)\n",
        "print('Inter:', pipe['model'].intercept_)\n",
        "print(\"R2:\", r2_score(y, y_pred))"
      ],
      "metadata": {
        "colab": {
          "base_uri": "https://localhost:8080/"
        },
        "id": "71hhe6zsrveT",
        "outputId": "4853d513-95ac-44a9-d94f-6d7056534309"
      },
      "execution_count": null,
      "outputs": [
        {
          "output_type": "stream",
          "name": "stdout",
          "text": [
            "Feat: ['onehotencoder__grade_2' 'onehotencoder__grade_3'\n",
            " 'onehotencoder__grade_4' 'remainder__pre.score' 'remainder__grade*pre']\n",
            "Coef: [[-26.73540452 -16.22488882   6.03441299  47.71607257 -33.72457626]]\n",
            "Inter: [108.6784256]\n",
            "R2: 0.8309785688214331\n"
          ]
        }
      ]
    }
  ]
}